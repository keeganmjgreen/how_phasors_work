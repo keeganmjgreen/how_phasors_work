{
 "cells": [
  {
   "cell_type": "code",
   "execution_count": 4,
   "metadata": {
    "tags": [
     "remove-cell"
    ]
   },
   "outputs": [],
   "source": [
    "from math import pi\n",
    "import warnings\n",
    "\n",
    "import matplotlib.pyplot as plt\n",
    "import numpy as np\n",
    "\n",
    "warnings.filterwarnings(\"ignore\", category=UserWarning)\n",
    "\n",
    "plt.rcParams.update({\"text.usetex\": True})\n",
    "\n",
    "f = 60\n",
    "T = 1 / f\n",
    "t = np.linspace(0, T, 500)"
   ]
  },
  {
   "cell_type": "markdown",
   "metadata": {},
   "source": [
    "# Understanding AC Power\n",
    "\n",
    "AC power is driven by AC voltage. AC means that the voltage (or power) oscillates with time at a fixed frequency $f$. In the vast majority of cases, this oscillation follows a sine wave $V \\sin(2 \\pi f t)$ because rotary generators produce a sinusoidal voltage, and because voltages that follow a sine wave are most efficiently converted by transformers.\n",
    "\n",
    "In a pure DC circuit, current flows according to Ohm's law,\n",
    "\n",
    "$$ I = \\frac{V}{R}, $$\n",
    "\n",
    "meaning that the power dissipated by the resistor---the rate at which electrical energy is converted to thermal energy---is:\n",
    "\n",
    "$$ P = V I = \\frac{V^2}{R}. $$\n",
    "\n",
    "In a purely resistive AC circuit, Ohm's law still applies:\n",
    "\n",
    "$$ i(t) = \\frac{v(t)}{R}, \\quad p(t) = v(t) \\, i(t) = \\frac{v^2(t)}{R}. $$\n",
    "\n",
    "This means that as the voltage sine wave $v(t)$ reaches a peak, so does the current sine wave $i(t)$---they are *in phase*. $p(t)$ is also a sinusoid that is in-phase with the voltage and current. This is because $v(t)$ can be expressed as $V \\sin(x)$, and $\\sin^2(x)$ is itself also a sinusoid through the trigonometric identity $\\sin x = (1 - \\cos 2x)/2$."
   ]
  },
  {
   "cell_type": "code",
   "execution_count": null,
   "metadata": {
    "tags": [
     "remove-cell"
    ]
   },
   "outputs": [],
   "source": [
    "V = 5\n",
    "R = 2\n",
    "v = lambda t: V * np.sin(2 * pi * f * t)  # noqa: E731\n",
    "i = lambda t: v(t) / R  # noqa: E731\n",
    "p = lambda t: v(t) * i(t)  # noqa: E731\n",
    "plt.plot(t, v(t), label=\"$v(t)$\")\n",
    "plt.plot(t, i(t), label=\"$i(t)$\")\n",
    "plt.plot(t, p(t), label=\"$p(t)$\")\n",
    "plt.legend()\n",
    "plt.savefig(\"img/fig_1_1.png\", dpi=200)"
   ]
  },
  {
   "cell_type": "markdown",
   "metadata": {},
   "source": [
    "```{image} img/fig_1_1.png\n",
    ":align: center\n",
    ":width: 65%\n",
    "```"
   ]
  },
  {
   "cell_type": "markdown",
   "metadata": {},
   "source": [
    "However, in an AC circuit with inductive and capacitive components, the voltage, current, and power are not in-phase. This is because inductors and capacitors *store electrical energy* in magnetic and electric fields, respectively. They do so by converting electrical energy to magnetic and electric potential energy. These components also release their energy by converting it back to electrical energy. The rate at which the component stores and releases energy is its power.\n",
    "\n",
    "When an AC voltage is applied to these components, they store and release energy in a cycle. In fact, their power is a sine wave whose frequency $f$ matches that of the AC voltage. However, the times at which these components store and release energy---and the power at which they do so---does not align with the peaks and valleys of the AC voltage. Omitting the mathematical derivations, the sine wave of an inductor's and capacitor's power leads and lags behind that of the AC voltage by exactly an eighth of a cycle, respectively. In a related manner, a capacitor's current lags behind the AC voltage by exactly a quarter cycle (making it a cosine wave), and an inductor's leads behind it by exactly a quarter cycle (making it a negative cosine wave):"
   ]
  },
  {
   "cell_type": "code",
   "execution_count": null,
   "metadata": {
    "tags": [
     "remove-cell"
    ]
   },
   "outputs": [],
   "source": [
    "V = 5\n",
    "R = 2\n",
    "v = lambda t: V * np.sin(2 * pi * f * t)  # noqa: E731\n",
    "i_C = lambda t: v(t - pi / 2) / R  # noqa: E731\n",
    "p_C = lambda t: v(t) * i_C(t)  # noqa: E731\n",
    "i_L = lambda t: v(t + pi / 2) / R  # noqa: E731\n",
    "p_L = lambda t: v(t) * i_L(t)  # noqa: E731\n",
    "fig, (ax1, ax2) = plt.subplots(2)\n",
    "ax1.plot(t, v(t), label=\"$v(t)$\")\n",
    "ax1.plot(t, i_C(t), label=\"$i_C(t)$\")\n",
    "ax1.plot(t, p_C(t), label=\"$p_C(t)$\")\n",
    "ax1.legend()\n",
    "ax2.plot(t, v(t), label=\"$v(t)$\")\n",
    "ax2.plot(t, i_L(t), label=\"$i_L(t)$\")\n",
    "ax2.plot(t, p_L(t), label=\"$p_L(t)$\")\n",
    "ax2.legend()\n",
    "fig.savefig(\"img/fig_1_2.png\", dpi=200)"
   ]
  },
  {
   "cell_type": "markdown",
   "metadata": {},
   "source": [
    "```{image} img/fig_1_2.png\n",
    ":align: center\n",
    ":width: 65%\n",
    "```"
   ]
  }
 ],
 "metadata": {
  "kernelspec": {
   "display_name": "base",
   "language": "python",
   "name": "python3"
  },
  "language_info": {
   "codemirror_mode": {
    "name": "ipython",
    "version": 3
   },
   "file_extension": ".py",
   "mimetype": "text/x-python",
   "name": "python",
   "nbconvert_exporter": "python",
   "pygments_lexer": "ipython3",
   "version": "3.12.8"
  }
 },
 "nbformat": 4,
 "nbformat_minor": 2
}

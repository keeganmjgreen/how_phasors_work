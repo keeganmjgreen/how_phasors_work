{
 "cells": [
  {
   "cell_type": "code",
   "execution_count": 1,
   "metadata": {
    "tags": [
     "remove-cell"
    ]
   },
   "outputs": [],
   "source": [
    "from typing import Literal\n",
    "\n",
    "import matplotlib.pyplot as plt\n",
    "import numpy as np\n",
    "import schemdraw\n",
    "import schemdraw.elements as elm\n",
    "from matplotlib.axes import Axes\n",
    "\n",
    "plt.rcParams.update({\"text.usetex\": True})"
   ]
  },
  {
   "cell_type": "markdown",
   "metadata": {},
   "source": [
    "# What is a Phasor?"
   ]
  },
  {
   "cell_type": "markdown",
   "metadata": {},
   "source": [
    "## Phasors: A notation and way to make calculations straightforward"
   ]
  },
  {
   "cell_type": "markdown",
   "metadata": {},
   "source": [
    "A phasor is analogous to a negative number, in the sense that both negative numbers and phasors are mathematical representations, notations, and ways to make calculations straightforward.\n",
    "\n",
    "A negative number is a *mathematical representation* of the opposite of a quantity. It is distinct from the number zero which represents the absence or lack of a quantity. You can have no fewer than zero apples. Similarly, you cannot have a negative quantity of dollar bills. However, if the quantity of dollars refers not to physical legal tender but to an accounting of how many units of currency you have at your disposal, then a negative quantity represents the opposite of having dollars at your disposal---that is, owing dollars. In addition to this representation, negative numbers offer:\n",
    "\n",
    "- A *notation*. By prefixing a regular number ($x$) with a minus sign ($-$), it becomes negative ($-x$).\n",
    "\n",
    "- A *way to make calculations straightforward*. A negative number is like a different kind of quantity on which arithmetic operations can be done by treating them accordingly; to subtract a negative quantity you add its positive counterpart, to multiply you multiply by the positive counterpart and negate the product, and so on.\n",
    "\n",
    "Similarly, a phasor is a *mathematical representation* of a sine wave, in terms of its amplitude $A$ and phase $\\theta$. A sine wave already has a mathematical representation in the time domain with the notation $A \\sin (\\omega t + \\theta)$. However, while this representation makes calculations possible, it does not make them straightforward and does not have a concise notation. Representing sine waves in the phasor domain offers:\n",
    "\n",
    "- A *notation*. Phasors can be written concisely, such as in polar form $A \\angle \\theta$. The \"$\\omega t$\" is implicit.\n",
    "\n",
    "- A *way to make calculations straightforward*. As we will see in [Life With and Without Phasors](3_life_with_and_without_phasors.ipynb), working in the phasor domain allows you to write and solve AC circuit analysis equations more quickly and easily than working in the time domain. Working in the time domain requires writing and solving differential equations from scratch for each circuit, even though the differential equations and their solutions are similar from one circuit to another. It turns out that the calculations that can be done with phasors are the bare minimum calculations that must be done in order to solve an AC circuit.\n",
    "\n",
    "&nbsp;"
   ]
  },
  {
   "cell_type": "markdown",
   "metadata": {},
   "source": [
    "## Back to basics: Sine waves are vector-like"
   ]
  },
  {
   "cell_type": "code",
   "execution_count": 2,
   "metadata": {
    "tags": [
     "remove-cell"
    ]
   },
   "outputs": [],
   "source": [
    "def draw(\n",
    "    ax: Axes,\n",
    "    phi_X: float,\n",
    "    theta: float = 0.0,\n",
    "    XY: float = 3.0,\n",
    "    text: Literal[\"all\", \"angle_only\", None] = \"angle_only\",\n",
    "    circle: bool = False,\n",
    "    sine: bool = False,\n",
    "    origin: tuple[float, float] = (0.0, 0.0),\n",
    "    suffix: bool = \"\",\n",
    ") -> None:\n",
    "    ax.axis(\"off\")\n",
    "    ax.set_aspect(\"equal\")\n",
    "\n",
    "    angles = np.linspace(0, phi_X)\n",
    "\n",
    "    XZ = XY * np.cos(theta + phi_X)\n",
    "    YZ = XY * np.sin(theta + phi_X)\n",
    "    O_x, O_y = origin\n",
    "    ax.plot(\n",
    "        O_x + np.array([0, XZ, XZ, 0]),\n",
    "        O_y + np.array([0, YZ, 0, 0]),\n",
    "        \"k\",\n",
    "        linewidth=0.5,\n",
    "        marker=\".\",\n",
    "    )\n",
    "\n",
    "    ri = 0.4\n",
    "    ro = 0.7\n",
    "    if theta > 0:\n",
    "        ax.plot([0, XY * np.cos(theta)], [0, XY * np.sin(theta)], \"k\", linewidth=0.5)\n",
    "        ax.plot(\n",
    "            ri * np.cos(np.linspace(0, theta)),\n",
    "            ri * np.sin(np.linspace(0, theta)),\n",
    "            \"k\",\n",
    "            linewidth=0.5,\n",
    "        )\n",
    "        ax.annotate(\n",
    "            r\"$\\theta$\",\n",
    "            (ro * np.cos(theta / 2), ro * np.sin(theta / 2)),\n",
    "            xytext=(XY * np.cos(theta / 2), XY * np.sin(theta / 2)),\n",
    "            arrowprops=dict(arrowstyle=\"->\", linewidth=0.5),\n",
    "        )\n",
    "    ax.plot(\n",
    "        O_x + ri * np.cos(theta + angles),\n",
    "        O_y + ri * np.sin(theta + angles),\n",
    "        \"k\",\n",
    "        linewidth=0.5,\n",
    "    )\n",
    "    if text in [\"all\", \"angle_only\"]:\n",
    "        ax.annotate(\n",
    "            rf\"$\\phi_X{suffix}$\",\n",
    "            origin\n",
    "            + np.array(\n",
    "                [\n",
    "                    ro * np.cos((2 * theta + phi_X) / 2),\n",
    "                    ro * np.sin((2 * theta + phi_X) / 2),\n",
    "                ]\n",
    "            ),\n",
    "            textcoords=\"offset points\",\n",
    "            xytext=(-5, -3.5),\n",
    "            ha=\"center\",\n",
    "        )\n",
    "\n",
    "    if text == \"all\":\n",
    "        ax.annotate(\n",
    "            rf\"$X{suffix}$\",\n",
    "            origin + np.array([0, 0]),\n",
    "            textcoords=\"offset points\",\n",
    "            xytext=(5, 5),\n",
    "            ha=\"center\",\n",
    "        )\n",
    "        ax.annotate(\n",
    "            rf\"$Y{suffix}$\",\n",
    "            origin + np.array([XZ, YZ]),\n",
    "            textcoords=\"offset points\",\n",
    "            xytext=(-7.5, 2.5),\n",
    "            ha=\"center\",\n",
    "        )\n",
    "        ax.annotate(\n",
    "            rf\"$Z{suffix}$\",\n",
    "            origin + np.array([XZ, 0]),\n",
    "            textcoords=\"offset points\",\n",
    "            xytext=(5, -10),\n",
    "            ha=\"center\",\n",
    "        )\n",
    "\n",
    "        ax.annotate(\n",
    "            rf\"$X{suffix}Y{suffix}$\",\n",
    "            origin + np.array([XZ / 2, YZ / 2]),\n",
    "            textcoords=\"offset points\",\n",
    "            xytext=(-5, 5),\n",
    "            ha=\"center\",\n",
    "        )\n",
    "        ax.annotate(\n",
    "            rf\"$Y{suffix}\\!Z{suffix}$\",\n",
    "            origin + np.array([XZ, YZ / 2]),\n",
    "            textcoords=\"offset points\",\n",
    "            xytext=(12, -5),\n",
    "            ha=\"center\",\n",
    "        )\n",
    "        ax.annotate(\n",
    "            rf\"$X{suffix}\\!Z{suffix}$\",\n",
    "            origin + np.array([XZ / 2, 0]),\n",
    "            textcoords=\"offset points\",\n",
    "            xytext=(0, -12),\n",
    "            ha=\"center\",\n",
    "        )\n",
    "\n",
    "    if circle:\n",
    "        ax.plot(\n",
    "            XY * np.cos(theta + angles), XY * np.sin(theta + angles), \"k\", linewidth=0.5\n",
    "        )\n",
    "        ax.annotate(\n",
    "            r\"$A$\",\n",
    "            (XZ / 2, YZ / 2),\n",
    "            textcoords=\"offset points\",\n",
    "            xytext=(-5, -7.5),\n",
    "            ha=\"center\",\n",
    "        )\n",
    "\n",
    "    if sine:\n",
    "        o_x = 2 * XY\n",
    "        ax.annotate(\n",
    "            \"\",\n",
    "            xytext=(o_x - 0.2, 0),\n",
    "            xy=(o_x + theta + phi_X, 0),\n",
    "            arrowprops=dict(arrowstyle=\"->\", linewidth=0.5),\n",
    "        )\n",
    "        ax.annotate(\n",
    "            r\"$\\phi_X \\! = \\! \\omega t$\",\n",
    "            (o_x + theta + phi_X, 0),\n",
    "            textcoords=\"offset points\",\n",
    "            xytext=(-20, 7.5),\n",
    "        )\n",
    "        ax.annotate(\n",
    "            \"\",\n",
    "            xytext=(o_x, -XY),\n",
    "            xy=(o_x, XY),\n",
    "            arrowprops=dict(arrowstyle=\"->\", linewidth=0.5),\n",
    "        )\n",
    "        ax.annotate(\"$y$\", (o_x, XY), textcoords=\"offset points\", xytext=(-10, -10))\n",
    "        ax.plot(o_x + angles, XY * np.sin(theta + angles), \"k\", linewidth=0.5)\n",
    "        ax.plot(\n",
    "            [XZ, o_x + phi_X],\n",
    "            [YZ, XY * np.sin(theta + phi_X)],\n",
    "            \"k\",\n",
    "            linewidth=0.5,\n",
    "            dashes=(5, 5),\n",
    "        )\n",
    "\n",
    "    return XZ, YZ"
   ]
  },
  {
   "cell_type": "code",
   "execution_count": null,
   "metadata": {
    "tags": [
     "remove-cell"
    ]
   },
   "outputs": [],
   "source": [
    "fig, (ax1, ax2, ax3, ax4) = plt.subplots(4, figsize=(3, 6), layout=\"tight\")\n",
    "fig.subplots_adjust(hspace=0.5)\n",
    "\n",
    "ax1.set_title(r\"\\rm \\small Figure 2.1(a)\")\n",
    "ax2.set_title(r\"\\rm \\small Figure 2.1(b)\")\n",
    "ax3.set_title(r\"\\rm \\small Figure 2.1(c)\")\n",
    "ax4.set_title(r\"\\rm \\small Figure 2.1(d)\")\n",
    "\n",
    "draw(ax1, phi_X=(np.pi / 8), text=\"all\")\n",
    "draw(ax2, phi_X=(2 * np.pi - np.pi / 3), circle=True)\n",
    "draw(ax3, phi_X=(2 * np.pi - np.pi / 3), circle=True, sine=True)\n",
    "draw(ax4, theta=(np.pi / 6), phi_X=(2 * np.pi - np.pi / 3), circle=True, sine=True)\n",
    "\n",
    "fig.savefig(\"img/fig_2_1.png\", dpi=200)"
   ]
  },
  {
   "cell_type": "markdown",
   "metadata": {},
   "source": [
    "```{figure} img/fig_2_1.png\n",
    ":align: right\n",
    ":figclass: margin\n",
    "```"
   ]
  },
  {
   "cell_type": "markdown",
   "metadata": {},
   "source": [
    "Consider the right triangle $XY\\!Z$ in Figure 2.1(a). This triangle (like every triangle) has a ratio between length of side $Y\\!Z$ (opposite to $\\phi_X$) and the length of side $XY$ (the hypotenuse). The sine function represents the relationship between this ratio and angle $\\phi_X$:\n",
    "\n",
    "$$ \\sin \\phi_X = \\frac{Y\\!Z}{XY} $$\n",
    "\n",
    "As $\\phi_X$ ranges from $0$ to $2 \\pi$ radians (or $0$ to $360$ degrees), point $Y$ draws a circle centered around $X$ whose radius $A$ is the hypotenuse's length, as in Figure 2.1(b).\n",
    "\n",
    "If we were to plot the length of side $Y\\!Z$ as a function of $x = \\phi_X$, we would have a sine wave of amplitude $A = XY$, as in Figure 2.1(c), that repeats every multiple of $2 \\pi$ radians. This sine wave may represent AC voltage or current.\n",
    "\n",
    "$$ y = A \\sin \\phi_X $$\n",
    "\n",
    "If we wanted the drawing of our circle to depend on time $t$, and we wanted $f$ circles to be drawn per second, we would replace the independent variable $x = \\phi_X$ with $x = t$:\n",
    "\n",
    "$$ y = A \\sin 2 \\pi \\! f t $$\n",
    "\n",
    "where $f$ is frequency in units of cycles per second (or *Hertz*, $\\mathrm{Hz}$). For conciseness, we can replace $2 \\pi \\! f$ with $\\omega$, the *natural frequency*, which is in units of radians per second:\n",
    "\n",
    "$$ y = A \\sin \\omega t $$\n",
    "\n",
    "If we wanted to shift the drawing of our circle in time, we could add or subtract a constant from $t$. However, the mathematically equivalent convention is to add or subtract a constant $\\theta$, called the *phase*, from $\\omega t$. Now we're drawing our circle with a head start of $\\theta$, from $\\theta$ to $\\theta + 2 \\pi$ radians, as in Figure 2.1(d). This corresponds to a phase-shifted sine wave:\n",
    "\n",
    "$$ y = A \\sin(\\omega t + \\theta) $$"
   ]
  },
  {
   "cell_type": "markdown",
   "metadata": {},
   "source": [
    "What if we wanted to add sine waves? If the sine wave represents AC voltage or current, being able to do so is important for AC circuit analysis. We can prove that the sum of two phase-shifted sine waves is another phase-shifted sine wave, and apply trigonometric identities to calculate it. However, the geometric approach is more intuitive. Consider that point $X$ of the first wave's triangle is at the origin of its two-dimensional space, and that the second sine wave is similarly formed at any moment in time by a second triangle $X'Y'\\!Z'$. If the two waves were added, then the second triangle would be translated such that its point $X'$ would be situated at the first triangle's point $Y$. Thus, the second triangle's point $Y'$ would have the coordinates $(X\\!Z + X'\\!Z', Y\\!Z + Y'\\!Z')$, representing the sum of the two waves. Similarly, if we were instead subtracting the second wave from the first, the point $Y'$ would have the coordinates $(X\\!Z - X'\\!Z', Y\\!Z - Y'\\!Z')$. Clearly, the addition and subtraction of the triangles by which sine waves are formed satisfies the properties of vector addition and subtraction."
   ]
  },
  {
   "cell_type": "code",
   "execution_count": null,
   "metadata": {
    "tags": [
     "remove-cell"
    ]
   },
   "outputs": [],
   "source": [
    "fig, ax = plt.subplots(layout=\"tight\")\n",
    "\n",
    "ax.set_title(r\"\\rm \\Large Figure 2.2\")\n",
    "\n",
    "origin = draw(ax, phi_X := np.pi / 3, text=\"all\")\n",
    "draw(ax, phi_Xp := np.pi / 8, text=\"all\", origin=origin, suffix=\"'\")\n",
    "xpp = 3 * np.cos(phi_X) + 3 * np.cos(phi_Xp)\n",
    "ypp = 3 * np.sin(phi_X) + 3 * np.sin(phi_Xp)\n",
    "draw(ax, np.atan(ypp / xpp), XY=np.sqrt(xpp**2 + ypp**2), text=None)\n",
    "\n",
    "fig.savefig(\"img/fig_2_2.png\", dpi=200)"
   ]
  },
  {
   "cell_type": "markdown",
   "metadata": {},
   "source": [
    "```{image} img/fig_2_2.png\n",
    ":align: center\n",
    ":width: 65%\n",
    "```\n",
    "\n",
    "<p></p>"
   ]
  },
  {
   "cell_type": "markdown",
   "metadata": {},
   "source": [
    "Phasors satisfy properties of vectors---addition, subtraction, multiplication by a scalar, and so on. However, phasors are not vectors. Vectors exist in $n$-dimensional euclidean space. As the geometric analogy suggested, phasors exist in two-dimensional space. As we will learn in the next section, the two-dimensional space in which phasors exist is not even euclidean, and phasors must satisfy additional properties that vectors do not have."
   ]
  },
  {
   "cell_type": "markdown",
   "metadata": {},
   "source": [
    "## Reverse engineering the concept of phasors"
   ]
  },
  {
   "cell_type": "markdown",
   "metadata": {},
   "source": [
    "Let's reverse-engineer the concept of phasors. Consider the following series RL circuit consisting of a voltage source $S$, a resistor $R$, and an inductor $L$:"
   ]
  },
  {
   "cell_type": "code",
   "execution_count": null,
   "metadata": {
    "tags": [
     "remove-cell"
    ]
   },
   "outputs": [],
   "source": [
    "fig, ax = plt.subplots(figsize=(4, 3), layout=\"tight\")\n",
    "ax.set_aspect(\"equal\")\n",
    "ax.set_axis_off()\n",
    "with schemdraw.Drawing(canvas=ax) as d:\n",
    "    d.config(lw=1)\n",
    "    v_s = elm.SourceSin().down(4).label([\"$+$\", \"$v_S$\", \"$-$\"]).flip()\n",
    "    elm.CurrentLabelInline(direction=\"out\").at(v_s).label(r\"$i$\")\n",
    "    elm.Line().right(3)\n",
    "    R = elm.Resistor().up(2).label([\"$-$\", r\"$v_\\mathrm{R}$  $R$\", \"$+$\"], loc=\"bottom\")\n",
    "    L = (\n",
    "        elm.Inductor()\n",
    "        .up(2)\n",
    "        .label([\"$-$\", r\"$v_\\mathrm{L}$  $L$\", \"$+$\"], loc=\"bottom\")\n",
    "        .flip()\n",
    "    )\n",
    "    elm.Line().left(3)\n",
    "fig.savefig(\"img/fig_2_3.png\", dpi=200)"
   ]
  },
  {
   "cell_type": "markdown",
   "metadata": {},
   "source": [
    "```{image} img/fig_2_3.png\n",
    ":align: center\n",
    ":width: 40%\n",
    "```\n",
    "\n",
    "<p></p>"
   ]
  },
  {
   "cell_type": "markdown",
   "metadata": {},
   "source": [
    "The voltage source generates a sine wave $v_S(t) = V_{\\!S} \\sin(\\omega t + \\theta_S)$. If using the geometric analogy to represent the voltage source's sine wave, it would have coordinates $(v_{Sx}, v_{Sy}) = (V_{\\!S} \\cos \\theta_S, V_{\\!S} \\sin \\theta_S)$. Say that we want to solve for the steady-state current $i(t)$ through the circuit. We would start by writing the integro-differential equation:\n",
    "\n",
    "$$\n",
    "\\begin{aligned}\n",
    "i(t)\n",
    "& = \\frac{1}{L} \\int_0^t v_L(\\tau) \\, \\mathrm{d} \\tau \\\\\n",
    "& = \\frac{1}{L} \\int_0^t (v_S(\\tau) - v_R(\\tau)) \\, \\mathrm{d} \\tau \\\\\n",
    "& = \\frac{1}{L} \\int_0^t (v_S(\\tau) - i(\\tau) R) \\, \\mathrm{d} \\tau \\\\\n",
    "\\end{aligned}\n",
    "$$ (differential_eqn)\n",
    "\n",
    "The steady-state solution to this integro-differential equation is as follows. Note that setting up and solving AC circuits' integro-differential equations will be discussed further in [Life With and Without Phasors](3_life_with_and_without_phasors.ipynb).\n",
    "\n",
    "$$ i(t) = \\frac{V_{\\!S}}{\\sqrt{R^2 + (\\omega L)^2}} \\, \\sin \\! \\left( \\omega t + \\theta_S - \\arctan \\frac{\\omega L}{R} \\right) $$\n",
    "\n",
    "Using the geometric analogy, we can represent the sine wave of $i(t)$ using coordinates $(i_x, i_y)$. $i_x$ can be written as:\n",
    "\n",
    "$$\n",
    "\\begin{aligned}\n",
    "i_x\n",
    "& = \\frac{V_{\\!S}}{\\sqrt{R^2 + (\\omega L)^2}} \\cos \\! \\left( \\theta_S - \\arctan \\frac{\\omega L}{R} \\right) \\\\\n",
    "& = \\frac{V_{\\!S}}{\\sqrt{R^2 + (\\omega L)^2}} \\left( \\cos \\theta_S \\cdot \\cos \\! \\left( \\arctan \\frac{\\omega L}{R} \\right) + \\sin \\theta_S \\cdot \\sin \\! \\left( \\arctan \\frac{\\omega L}{R} \\right) \\right) \\\\\n",
    "& = \\frac{V_{\\!S}}{\\sqrt{R^2 + (\\omega L)^2}} \\left( \\cos \\theta_S \\cdot \\frac{R}{\\sqrt{R^2 + (\\omega L)^2}} + \\sin \\theta_S \\cdot \\frac{\\omega L}{\\sqrt{R^2 + (\\omega L)^2}} \\right) \\\\\n",
    "& = \\frac{V_{\\!S} \\cos \\theta_S \\cdot R + V_{\\!S} \\sin \\theta_S \\cdot \\omega L}{R^2 + (\\omega L)^2}\n",
    "\\end{aligned}\n",
    "$$ (i_x_deriv)\n",
    "\n",
    "And, similarly, $i_y$ can be written as follows.\n",
    "\n",
    "$$\n",
    "\\begin{aligned}\n",
    "i_y\n",
    "& = \\frac{V_{\\!S}}{\\sqrt{R^2 + (\\omega L)^2}} \\, \\sin \\! \\left( \\theta_S - \\arctan \\frac{\\omega L}{R} \\right) \\\\\n",
    "% & = \\frac{V_{\\!S}}{\\sqrt{R^2 + (\\omega L)^2}} \\left( \\sin \\theta_S \\cos \\arctan \\frac{\\omega L}{R} - \\cos \\theta_S \\sin \\arctan \\frac{\\omega L}{R} \\right) \\\\\n",
    "% & = \\frac{V_{\\!S}}{\\sqrt{R^2 + (\\omega L)^2}} \\left( \\sin \\theta_S \\frac{R}{\\sqrt{R^2 + (\\omega L)^2}} - \\cos \\theta_S \\frac{\\omega L}{\\sqrt{R^2 + (\\omega L)^2}} \\right) \\\\\n",
    "& = \\frac{V_{\\!S} \\sin \\theta_S \\cdot R - V_{\\!S} \\cos \\theta_S \\cdot \\omega L}{R^2 + (\\omega L)^2}\n",
    "\\end{aligned}\n",
    "$$ (i_y_deriv)\n",
    "\n",
    "Let's substitute $v_{Sx}$ for $V_{\\!S} \\cos \\theta_S$ and $v_{Sy}$ for $V_{\\!S} \\sin \\theta_S$. Let's also replace $R$ and $\\omega L$ with new quantities $Z_x$ and $Z_y$, whose significance will become apparent shortly.\n",
    "\n",
    "$$ (i_x, i_y) = \\left( \\frac{v_{Sx} Z_x + v_{Sy} Z_y}{Z_x^2 + Z_y^2}, \\frac{v_{Sy} Z_x - v_{Sx} Z_y}{Z_x^2 + Z_y^2} \\right) $$\n",
    "\n",
    "Making use of the properties of complex numbers (in the box below), we discover what is important about being able to write $(i_x, i_y)$ in this way. The complex number $i_x + {j} \\, i_y$ (where ${j}$ is the imaginary unit) is the result of the following complex number division:\n",
    "\n",
    "$$\n",
    "i_x + {j} \\, i_y = \\frac{v_{Sx} + {j} \\, v_{Sy}}{Z_x + {j} \\, Z_y}\n",
    "$$ (i_x_plus_j_i_y)\n",
    "\n",
    "```{admonition} Properties of complex numbers\n",
    "Addition and subtraction:\n",
    "\n",
    "$$ (a + {j} \\, b) \\pm (c + {j} \\, d) = (a \\pm c) + {j} \\, (b \\pm d) $$\n",
    "\n",
    "Multiplication:\n",
    "\n",
    "$$ (a + {j} \\, b) (c + {j} \\, d) = a c + {j} \\, d a + {j} \\, b c + ({j} \\, b ) ({j} \\, d) = (ac - bd) + {j} \\, (bc + ad) $$\n",
    "\n",
    "Division:\n",
    "\n",
    "$$\n",
    "\\begin{aligned}\n",
    "\\frac{a + {j} \\, b}{c + {j} \\, d}\n",
    "& = \\frac{a + {j} \\, b}{c + {j} \\, d} \\frac{c - {j} \\, d}{c - {j} \\, d}\n",
    "\\quad \\text{(Multiply both numerator and denominator by denominator's conjugate.)} \\\\\n",
    "& = \\frac{a c - {j} \\, d a + {j} \\, b c - ({j} \\, b ) ({j} \\, d)}{c^2 - {j} \\, d c + {j} \\, d c - ({j} \\, d ) ({j} \\, d)} \\\\\n",
    "& = \\frac{(ac + bd) + {j} \\, (bc - ad)}{c^2 + d^2}\n",
    "\\end{aligned}\n",
    "$$\n",
    "```\n",
    "\n",
    "Knowing that $Z_x = R$, Equation Equation {eq}`i_x_plus_j_i_y` feels like Ohm's law. If we were to remove the inductor $L$ from the circuit and thus set $Z_y = \\omega L$ to zero, the equation indeed becomes Ohm's law for a purely resistive circuit:\n",
    "\n",
    "$$\n",
    "\\begin{aligned}\n",
    "& i_x + {j} \\, i_y = \\frac{v_x + {j} \\, v_y}{R} = \\frac{V_{\\!S} \\cos \\theta_S}{R} + {j} \\, \\frac{V_{\\!S} \\sin \\theta_S}{R} \\\\\n",
    "& \\implies (i_x, i_y) = \\left( \\frac{V_{\\!S} \\cos \\theta_S}{R}, \\frac{V_{\\!S} \\sin \\theta_S}{R} \\right) \\\\\n",
    "& \\implies i(t) = \\frac{v_S(t)}{R}\n",
    "\\end{aligned}\n",
    "$$\n",
    "\n",
    "In fact, Equation {eq}`i_x_plus_j_i_y` is the generalization of Ohm's law for an AC circuit with inductive and capacitive components, and $Z_x + {j} \\, Z_y$, called *impedance*, is the generalization of electrical resistance $R$ for such a circuit. Just as we could write $i(t) = v_S(t) / R$ for a purely resistive AC circuit, we can write $i_x + {j} \\, i_y = (v_{Sx} + {j} \\, v_{Sy}) / (Z_x + {j} \\, Z_y)$ for an AC circuit with inductive and capacitive components.\n",
    "\n",
    "This indicates to us that the coordinates we've been working with in our geometric analogy are actually complex numbers. They satisfy all the properties of complex numbers, including addition, subtraction, multiplication by a scalar, multiplication, and division (as we've just seen). A complex number, as used to represent a sinusoidal voltage or current, is what we call a phasor. Furthermore, a complex number, as used to represent the ratio between a voltage phasor and a current phasor, is what we call impedance. Impedance, however, is not itself a phasor because it does not represent a sine wave.\n",
    "\n",
    "The most important feature of phasors is that they allow us to do calculations using complex numbers rather than solving differential equations. For example, rather than solving differential equation {eq}`differential_eqn`, we can quickly convert $v_S(t)$ to a phasor, solve a regular equation in the phasor domain, and convert the solution to $i(t)$ back in the time domain.\n",
    "\n",
    "You may be thinking that complex numbers are an unintuitive or downright far-fetched way to represent solving differential equations. In answer to this, consider that the behavior of multiplying a complex number of unit magnitude by ${j}$ is identical to the behavior of differentiating a sine wave of unit amplitude with respect to time, as shown in the following diagram. Similarly, by reversing the diagram, the behavior of dividing a complex number of unit magnitude by ${j}$ is identical to the behavior of integrating a sine wave of unit amplitude with respect to time. So, instead of writing derivatives and integrals to model capacitors and inductors, we can simply multiply and divide by ${j}$.\n",
    "\n",
    "$$\n",
    "\\begin{array}{cccc}\n",
    "& 1 & \\sin t & \\\\\n",
    "\\text{Multiply by }{j} & \\downarrow & \\downarrow & \\text{Differentiate w.r.t. } t \\\\\n",
    "& {j} & \\cos t & \\\\\n",
    "\\text{Multiply by }{j} & \\downarrow & \\downarrow & \\text{Differentiate w.r.t. } t \\\\\n",
    "& -1 & - \\sin t & \\\\\n",
    "\\text{Multiply by }{j} & \\downarrow & \\downarrow & \\text{Differentiate w.r.t. } t \\\\\n",
    "& -{j} & - \\cos t & \\\\\n",
    "\\text{Multiply by }{j} & \\downarrow & \\downarrow & \\text{Differentiate w.r.t. } t \\\\\n",
    "& 1 & \\sin t &\n",
    "\\end{array}\n",
    "$$"
   ]
  },
  {
   "cell_type": "markdown",
   "metadata": {},
   "source": [
    "## Notation for phasors"
   ]
  },
  {
   "cell_type": "markdown",
   "metadata": {},
   "source": [
    "Previously, we treated phasors as coordinates in two-dimensional space, with $x$- and $y$ components. For example, we had:\n",
    "\n",
    "$$ (v_{Sx}, v_{Sy}) \\qquad (i_x, i_y) $$\n",
    "\n",
    "However, now that we know that phasors (and impedances) are just complex numbers, we can replace this notation with complex number notation, in terms of a real and imaginary component. For example:\n",
    "\n",
    "$$ \\mathbf{v}_S = \\mathrm{Re}(\\mathbf{v}_S) + {j} \\, \\mathrm{Im}(\\mathbf{v}_S) \\qquad \\mathbf{i} = \\mathrm{Re}(\\mathbf{i}) + {j} \\, \\mathrm{Im}(\\mathbf{i}) \\qquad Z = \\mathrm{Re}(Z) + {j} \\, \\mathrm{Im}(Z) $$"
   ]
  },
  {
   "cell_type": "markdown",
   "metadata": {},
   "source": [
    "### Polar form"
   ]
  },
  {
   "cell_type": "markdown",
   "metadata": {},
   "source": [
    "Let's introduce a polar form of complex number notation, which is used to write a phasor (or impedance) in terms of amplitude and phase, rather than in terms of its real and imaginary components. For example:\n",
    "\n",
    "$$\n",
    "\\begin{aligned}\n",
    "\\mathbf{v}_S\n",
    "& = V_{\\!S} \\cos \\theta_S + {j} \\, V_{\\!S} \\sin \\theta_S \\\\\n",
    "& = \\boxed{V_{\\!S} \\angle \\theta_S}\n",
    "\\end{aligned}\n",
    "$$\n",
    "\n",
    "We can apply this polar form to equations {eq}`i_x_deriv` and {eq}`i_y_deriv`:\n",
    "\n",
    "$$\n",
    "\\begin{aligned}\n",
    "\\mathbf{i}\n",
    "& = \\frac{V_{\\!S}}{\\sqrt{R^2 + (\\omega L)^2}} \\cos \\! \\left( \\theta_S - \\arctan \\frac{\\omega L}{R} \\right) + {j} \\, \\frac{V_{\\!S}}{\\sqrt{R^2 + (\\omega L)^2}} \\sin \\! \\left( \\theta_S - \\arctan \\frac{\\omega L}{R} \\right) \\\\\n",
    "& = \\boxed{\\left( \\frac{V_{\\!S}}{\\sqrt{R^2 + (\\omega L)^2}} \\right) \\angle \\left( \\theta_S - \\arctan \\frac{\\omega L}{R} \\right)}\n",
    "\\end{aligned}\n",
    "$$ (i_polar)\n",
    "\n",
    "Previously, equations {eq}`i_x_deriv` and {eq}`i_y_deriv` led us to see a way that $\\mathbf{i}$ can be calculated from $\\mathbf{v}_S$ by dividing by impedance $Z$ using division of complex numbers. If we take a close look at Equation {eq}`i_polar`, we can find an additional, equivalent way in which $\\mathbf{i}$ can be calculated from $\\mathbf{v}_S$. Notice how $\\mathbf{v}_S$ can be converted to $\\mathbf{i}$ by dividing its amplitude $V_{\\!S}$ by $\\sqrt{R^2 + (\\omega L)^2}$ and by subtracting $\\arctan(\\omega L / R)$ from $\\theta_S$. This demonstrates a useful property of phasors and complex numbers in general in polar form---two complex numbers can easily be divided by dividing their amplitudes and subtracting their phases:\n",
    "\n",
    "$$ \\frac{A_1 \\angle \\theta_1}{A_2 \\angle \\theta_2} = \\frac{A_1}{A_2} \\angle (\\theta_1 - \\theta_2) $$\n",
    "\n",
    "Of course, all properties of complex numbers can be written in polar form, but multiplying and dividing complex numbers is easiest when they are in polar form. On the other hand, adding and subtracting complex numbers is easiest when they are in the non-polar form.\n",
    "\n",
    "```{admonition} Properties of complex numbers (polar form)\n",
    "Addition and subtraction:\n",
    "\n",
    "$$ A_1 \\angle \\theta_1 \\pm A_2 \\angle \\theta_2 = \\sqrt{(A_1 \\cos \\theta_1 \\pm A_2 \\cos \\theta_2)^2 + (A_1 \\sin \\theta_1 \\pm A_2 \\sin \\theta_2)^2} \\angle \\left( \\arctan \\frac{A_1 \\sin \\theta_1 \\pm A_2 \\sin \\theta_2}{A_1 \\cos \\theta_1 \\pm A_2 \\cos \\theta_2} \\right) $$\n",
    "\n",
    "Multiplication:\n",
    "\n",
    "$$ A_1 \\angle \\theta_1 \\cdot A_2 \\angle \\theta_2 = A_1 A_2 \\angle (\\theta_1 + \\theta_2) $$\n",
    "\n",
    "Division:\n",
    "\n",
    "$$ \\frac{A_1 \\angle \\theta_1}{A_2 \\angle \\theta_2} = \\frac{A_1}{A_2} \\angle (\\theta_1 - \\theta_2) $$\n",
    "```"
   ]
  }
 ],
 "metadata": {
  "kernelspec": {
   "display_name": "base",
   "language": "python",
   "name": "python3"
  },
  "language_info": {
   "codemirror_mode": {
    "name": "ipython",
    "version": 3
   },
   "file_extension": ".py",
   "mimetype": "text/x-python",
   "name": "python",
   "nbconvert_exporter": "python",
   "pygments_lexer": "ipython3",
   "version": "3.12.8"
  }
 },
 "nbformat": 4,
 "nbformat_minor": 2
}

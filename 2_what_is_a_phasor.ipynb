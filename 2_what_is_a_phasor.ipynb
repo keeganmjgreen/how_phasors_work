{
 "cells": [
  {
   "cell_type": "markdown",
   "metadata": {},
   "source": [
    "# What is a Phasor?\n",
    "\n",
    "A phasor is analogous to a negative number. If that seems like an oversimplification, or that seems to not pay enough tribute to such a seemingly complex electrical engineering concept, then read on.\n",
    "\n",
    "Both negative numbers and phasors are mathematical representations, notations, and ways to make calculations straightforward.\n",
    "\n",
    "A negative number is a *mathematical representation* of the opposite of a quantity. It is distinct from the number zero which represents the absence or lack of a quantity. You can have no fewer than zero apples. Similarly, you cannot have a negative quantity of dollar bills. However, if the quantity of dollars refers not to physical legal tender but to an accounting of how many units of currency you have at your disposal, then a negative quantity represents the opposite of having dollars at your disposal---that is, owing dollars. In addition to this representation, negative numbers offer:\n",
    "\n",
    "- A *notation*. By prefixing a regular number ($x$) with a minus sign ($-$), it becomes negative ($-x$).\n",
    "\n",
    "- A *way to make calculations straightforward*. A negative number is like a different kind of quantity on which arithmetic operations can be done by treating them accordingly; to subtract a negative quantity you add its positive counterpart, to multiply you multiply by the positive counterpart and negate the product, and so on.\n",
    "\n",
    "Similarly, a phasor is a *mathematical representation* of a sinusoid, in terms of its amplitude $A$ and phase $\\theta$. A sinusoid already has a mathematical representation in the time domain with the notation $A \\cos (\\omega t + \\theta)$. However, while this representation makes calculations possible, it does not make them straightforward and does not have a concise notation. Representing sinusoids in the phasor domain offers:\n",
    "\n",
    "- A *notation*. Phasors can be written concisely in polar phasor notation $A \\angle \\theta$ or complex phasor notation $a + \\mathbf{j} \\, b$. The \"$\\omega t$\" is implicit.\n",
    "\n",
    "- A *way to make calculations straightforward*. As we will see in [Life With and Without Phasors](3_life_with_and_without_phasors.ipynb), working in the phasor domain allows you to write and solve AC circuit analysis equations more quickly and easily than working in the time domain. Working in the time domain requires writing and solving differential equations from scratch for each circuit, even though the differential equations and their solutions are similar from one circuit to another. It turns out that the calculations that can be done with phasors are the bare minimum calculations that must be done in order to solve an AC circuit."
   ]
  }
 ],
 "metadata": {
  "language_info": {
   "name": "python"
  }
 },
 "nbformat": 4,
 "nbformat_minor": 2
}
